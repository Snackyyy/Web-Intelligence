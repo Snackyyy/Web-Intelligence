{
  "nbformat": 4,
  "nbformat_minor": 0,
  "metadata": {
    "colab": {
      "provenance": []
    },
    "kernelspec": {
      "name": "python3",
      "display_name": "Python 3"
    },
    "language_info": {
      "name": "python"
    }
  },
  "cells": [
    {
      "cell_type": "markdown",
      "source": [
        "<h1 align=\"center\"> Tarea 1 - Web Content Mining\n",
        "<h2 align=\"center\">  Integrantes: Nombre 1, Nombre 2 y Nombre 3.\n",
        "<h3 align=\"center\"> IN5526 - Web Intelligence\n",
        "<h3 align=\"center\"> Primavera 2023\n",
        "\n",
        "---"
      ],
      "metadata": {
        "id": "cSJxtOS0BMTh"
      }
    },
    {
      "cell_type": "markdown",
      "source": [
        "# Introducción"
      ],
      "metadata": {
        "id": "b7fyWTtK918Z"
      }
    },
    {
      "cell_type": "markdown",
      "source": [
        "Ingrese aquí su introducción."
      ],
      "metadata": {
        "id": "hXeJOiQc94Es"
      }
    },
    {
      "cell_type": "markdown",
      "source": [
        "# Proceso KDD"
      ],
      "metadata": {
        "id": "PT8lpYb2A1Wo"
      }
    },
    {
      "cell_type": "markdown",
      "source": [
        "## Selección de datos con Web Scraper"
      ],
      "metadata": {
        "id": "YSvvmeaO7MIP"
      }
    },
    {
      "cell_type": "markdown",
      "source": [
        "## Pre-procesamiento"
      ],
      "metadata": {
        "id": "td3-t1UO7Oxx"
      }
    },
    {
      "cell_type": "markdown",
      "source": [
        "## Transformación"
      ],
      "metadata": {
        "id": "EAWgGQ_A7ROK"
      }
    },
    {
      "cell_type": "markdown",
      "source": [
        "## Data Mining"
      ],
      "metadata": {
        "id": "FiVPuaUI7Tts"
      }
    },
    {
      "cell_type": "markdown",
      "source": [
        "## Evaluación"
      ],
      "metadata": {
        "id": "VVBcCja17Vfn"
      }
    },
    {
      "cell_type": "markdown",
      "source": [
        "# Conclusiones"
      ],
      "metadata": {
        "id": "EgYVMvQb7Xt2"
      }
    },
    {
      "cell_type": "markdown",
      "source": [
        "Ingrese aquí sus conclusiones."
      ],
      "metadata": {
        "id": "e96wN7sw7fzF"
      }
    }
  ]
}